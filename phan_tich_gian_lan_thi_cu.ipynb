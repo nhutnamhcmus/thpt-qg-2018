{
  "nbformat": 4,
  "nbformat_minor": 0,
  "metadata": {
    "colab": {
      "name": "phan_tich_gian_lan_thi_cu.ipynb",
      "provenance": [],
      "toc_visible": true
    },
    "kernelspec": {
      "name": "python3",
      "display_name": "Python 3",
      "language": "python"
    }
  },
  "cells": [
    {
      "cell_type": "markdown",
      "metadata": {
        "id": "kwi2_oQhqtmk"
      },
      "source": [
        "# Import thư viện cần thiết"
      ]
    },
    {
      "cell_type": "code",
      "metadata": {
        "id": "S4wj0YZLkZOa"
      },
      "source": [
        "# Numeric and calculating\n",
        "import pandas as pd \n",
        "import numpy as np \n",
        "import math\n",
        "\n",
        "# Visualization\n",
        "import matplotlib.pyplot as plt \n",
        "import seaborn as sns "
      ],
      "execution_count": 1,
      "outputs": []
    },
    {
      "cell_type": "markdown",
      "metadata": {
        "id": "ninhBznfq2_w"
      },
      "source": [
        "# Đọc dữ liệu"
      ]
    },
    {
      "cell_type": "code",
      "metadata": {
        "id": "GETBkpGWW4pT",
        "outputId": "0047c9a9-5433-4d84-8361-7a4c36e03258",
        "colab": {
          "base_uri": "https://localhost:8080/"
        }
      },
      "source": [
        "!wget https://github.com/nhutnamhcmus/thpt-qg-2018/raw/main/data/THPT_2018_Quoc_gia.xlsx"
      ],
      "execution_count": 2,
      "outputs": [
        {
          "output_type": "stream",
          "text": [
            "--2021-04-14 13:02:12--  https://github.com/nhutnamhcmus/thpt-qg-2018/raw/main/data/THPT_2018_Quoc_gia.xlsx\n",
            "Resolving github.com (github.com)... 140.82.113.3\n",
            "Connecting to github.com (github.com)|140.82.113.3|:443... connected.\n",
            "HTTP request sent, awaiting response... 302 Found\n",
            "Location: https://raw.githubusercontent.com/nhutnamhcmus/thpt-qg-2018/main/data/THPT_2018_Quoc_gia.xlsx [following]\n",
            "--2021-04-14 13:02:12--  https://raw.githubusercontent.com/nhutnamhcmus/thpt-qg-2018/main/data/THPT_2018_Quoc_gia.xlsx\n",
            "Resolving raw.githubusercontent.com (raw.githubusercontent.com)... 185.199.108.133, 185.199.111.133, 185.199.110.133, ...\n",
            "Connecting to raw.githubusercontent.com (raw.githubusercontent.com)|185.199.108.133|:443... connected.\n",
            "HTTP request sent, awaiting response... 200 OK\n",
            "Length: 44778472 (43M) [application/octet-stream]\n",
            "Saving to: ‘THPT_2018_Quoc_gia.xlsx.1’\n",
            "\n",
            "THPT_2018_Quoc_gia. 100%[===================>]  42.70M  79.1MB/s    in 0.5s    \n",
            "\n",
            "2021-04-14 13:02:13 (79.1 MB/s) - ‘THPT_2018_Quoc_gia.xlsx.1’ saved [44778472/44778472]\n",
            "\n"
          ],
          "name": "stdout"
        }
      ]
    },
    {
      "cell_type": "code",
      "metadata": {
        "id": "pqegH3vIklt4"
      },
      "source": [
        "df = pd.read_excel('/content/THPT_2018_Quoc_gia.xlsx', engine='openpyxl')"
      ],
      "execution_count": 3,
      "outputs": []
    },
    {
      "cell_type": "markdown",
      "metadata": {
        "id": "tj4nqZ7Qq5my"
      },
      "source": [
        "# Xem thông tin dữ liệu"
      ]
    },
    {
      "cell_type": "code",
      "metadata": {
        "colab": {
          "base_uri": "https://localhost:8080/",
          "height": 204
        },
        "id": "djj9DEmyqSxh",
        "outputId": "fbb703d0-58b2-4669-eb4a-997b95c7d344"
      },
      "source": [
        "df.head()"
      ],
      "execution_count": 4,
      "outputs": [
        {
          "output_type": "execute_result",
          "data": {
            "text/html": [
              "<div>\n",
              "<style scoped>\n",
              "    .dataframe tbody tr th:only-of-type {\n",
              "        vertical-align: middle;\n",
              "    }\n",
              "\n",
              "    .dataframe tbody tr th {\n",
              "        vertical-align: top;\n",
              "    }\n",
              "\n",
              "    .dataframe thead th {\n",
              "        text-align: right;\n",
              "    }\n",
              "</style>\n",
              "<table border=\"1\" class=\"dataframe\">\n",
              "  <thead>\n",
              "    <tr style=\"text-align: right;\">\n",
              "      <th></th>\n",
              "      <th>ID</th>\n",
              "      <th>SoBD</th>\n",
              "      <th>Toan</th>\n",
              "      <th>Van</th>\n",
              "      <th>Anh</th>\n",
              "      <th>Ly</th>\n",
              "      <th>Hoa</th>\n",
              "      <th>Sinh</th>\n",
              "      <th>Su</th>\n",
              "      <th>Dia</th>\n",
              "      <th>GDCD</th>\n",
              "      <th>KhoiA</th>\n",
              "      <th>KhoiB</th>\n",
              "      <th>KhoiC</th>\n",
              "      <th>KhoiD</th>\n",
              "      <th>KhoiA1</th>\n",
              "    </tr>\n",
              "  </thead>\n",
              "  <tbody>\n",
              "    <tr>\n",
              "      <th>0</th>\n",
              "      <td>63861</td>\n",
              "      <td>1000019</td>\n",
              "      <td>4.8</td>\n",
              "      <td>5.75</td>\n",
              "      <td>4.8</td>\n",
              "      <td>NaN</td>\n",
              "      <td>NaN</td>\n",
              "      <td>NaN</td>\n",
              "      <td>5.25</td>\n",
              "      <td>5.75</td>\n",
              "      <td>7.25</td>\n",
              "      <td>NaN</td>\n",
              "      <td>NaN</td>\n",
              "      <td>16.75</td>\n",
              "      <td>15.35</td>\n",
              "      <td>NaN</td>\n",
              "    </tr>\n",
              "    <tr>\n",
              "      <th>1</th>\n",
              "      <td>62327</td>\n",
              "      <td>1000020</td>\n",
              "      <td>6.8</td>\n",
              "      <td>8.25</td>\n",
              "      <td>7.0</td>\n",
              "      <td>NaN</td>\n",
              "      <td>NaN</td>\n",
              "      <td>NaN</td>\n",
              "      <td>5.75</td>\n",
              "      <td>5.75</td>\n",
              "      <td>8.25</td>\n",
              "      <td>NaN</td>\n",
              "      <td>NaN</td>\n",
              "      <td>19.75</td>\n",
              "      <td>22.05</td>\n",
              "      <td>NaN</td>\n",
              "    </tr>\n",
              "    <tr>\n",
              "      <th>2</th>\n",
              "      <td>63857</td>\n",
              "      <td>1000021</td>\n",
              "      <td>5.6</td>\n",
              "      <td>8.00</td>\n",
              "      <td>6.4</td>\n",
              "      <td>NaN</td>\n",
              "      <td>NaN</td>\n",
              "      <td>NaN</td>\n",
              "      <td>3.75</td>\n",
              "      <td>7.00</td>\n",
              "      <td>7.50</td>\n",
              "      <td>NaN</td>\n",
              "      <td>NaN</td>\n",
              "      <td>18.75</td>\n",
              "      <td>20.00</td>\n",
              "      <td>NaN</td>\n",
              "    </tr>\n",
              "    <tr>\n",
              "      <th>3</th>\n",
              "      <td>63858</td>\n",
              "      <td>1000023</td>\n",
              "      <td>4.8</td>\n",
              "      <td>6.75</td>\n",
              "      <td>7.8</td>\n",
              "      <td>NaN</td>\n",
              "      <td>NaN</td>\n",
              "      <td>NaN</td>\n",
              "      <td>4.00</td>\n",
              "      <td>6.75</td>\n",
              "      <td>6.50</td>\n",
              "      <td>NaN</td>\n",
              "      <td>NaN</td>\n",
              "      <td>17.50</td>\n",
              "      <td>19.35</td>\n",
              "      <td>NaN</td>\n",
              "    </tr>\n",
              "    <tr>\n",
              "      <th>4</th>\n",
              "      <td>63595</td>\n",
              "      <td>1000024</td>\n",
              "      <td>6.2</td>\n",
              "      <td>7.00</td>\n",
              "      <td>7.4</td>\n",
              "      <td>NaN</td>\n",
              "      <td>NaN</td>\n",
              "      <td>NaN</td>\n",
              "      <td>3.75</td>\n",
              "      <td>7.25</td>\n",
              "      <td>9.25</td>\n",
              "      <td>NaN</td>\n",
              "      <td>NaN</td>\n",
              "      <td>18.00</td>\n",
              "      <td>20.60</td>\n",
              "      <td>NaN</td>\n",
              "    </tr>\n",
              "  </tbody>\n",
              "</table>\n",
              "</div>"
            ],
            "text/plain": [
              "      ID     SoBD  Toan   Van  Anh  ...  KhoiA  KhoiB  KhoiC  KhoiD  KhoiA1\n",
              "0  63861  1000019   4.8  5.75  4.8  ...    NaN    NaN  16.75  15.35     NaN\n",
              "1  62327  1000020   6.8  8.25  7.0  ...    NaN    NaN  19.75  22.05     NaN\n",
              "2  63857  1000021   5.6  8.00  6.4  ...    NaN    NaN  18.75  20.00     NaN\n",
              "3  63858  1000023   4.8  6.75  7.8  ...    NaN    NaN  17.50  19.35     NaN\n",
              "4  63595  1000024   6.2  7.00  7.4  ...    NaN    NaN  18.00  20.60     NaN\n",
              "\n",
              "[5 rows x 16 columns]"
            ]
          },
          "metadata": {
            "tags": []
          },
          "execution_count": 4
        }
      ]
    },
    {
      "cell_type": "code",
      "metadata": {
        "colab": {
          "base_uri": "https://localhost:8080/",
          "height": 317
        },
        "id": "A-MjC_RUqdz6",
        "outputId": "80a1ea5e-62e9-4439-9aae-064ce9b77735"
      },
      "source": [
        "df.describe()"
      ],
      "execution_count": 5,
      "outputs": [
        {
          "output_type": "execute_result",
          "data": {
            "text/html": [
              "<div>\n",
              "<style scoped>\n",
              "    .dataframe tbody tr th:only-of-type {\n",
              "        vertical-align: middle;\n",
              "    }\n",
              "\n",
              "    .dataframe tbody tr th {\n",
              "        vertical-align: top;\n",
              "    }\n",
              "\n",
              "    .dataframe thead th {\n",
              "        text-align: right;\n",
              "    }\n",
              "</style>\n",
              "<table border=\"1\" class=\"dataframe\">\n",
              "  <thead>\n",
              "    <tr style=\"text-align: right;\">\n",
              "      <th></th>\n",
              "      <th>ID</th>\n",
              "      <th>SoBD</th>\n",
              "      <th>Toan</th>\n",
              "      <th>Van</th>\n",
              "      <th>Anh</th>\n",
              "      <th>Ly</th>\n",
              "      <th>Hoa</th>\n",
              "      <th>Sinh</th>\n",
              "      <th>Su</th>\n",
              "      <th>Dia</th>\n",
              "      <th>GDCD</th>\n",
              "      <th>KhoiA</th>\n",
              "      <th>KhoiB</th>\n",
              "      <th>KhoiC</th>\n",
              "      <th>KhoiD</th>\n",
              "      <th>KhoiA1</th>\n",
              "    </tr>\n",
              "  </thead>\n",
              "  <tbody>\n",
              "    <tr>\n",
              "      <th>count</th>\n",
              "      <td>744396.00000</td>\n",
              "      <td>7.443960e+05</td>\n",
              "      <td>741024.000000</td>\n",
              "      <td>728309.000000</td>\n",
              "      <td>659998.000000</td>\n",
              "      <td>323353.000000</td>\n",
              "      <td>326981.000000</td>\n",
              "      <td>319605.000000</td>\n",
              "      <td>446118.000000</td>\n",
              "      <td>433221.000000</td>\n",
              "      <td>379034.000000</td>\n",
              "      <td>321232.000000</td>\n",
              "      <td>319516.000000</td>\n",
              "      <td>432605.000000</td>\n",
              "      <td>656138.000000</td>\n",
              "      <td>307864.000000</td>\n",
              "    </tr>\n",
              "    <tr>\n",
              "      <th>mean</th>\n",
              "      <td>372198.50000</td>\n",
              "      <td>3.033333e+07</td>\n",
              "      <td>4.884162</td>\n",
              "      <td>5.444146</td>\n",
              "      <td>3.933543</td>\n",
              "      <td>4.961179</td>\n",
              "      <td>4.864391</td>\n",
              "      <td>4.561249</td>\n",
              "      <td>3.805371</td>\n",
              "      <td>5.483495</td>\n",
              "      <td>7.157468</td>\n",
              "      <td>15.523625</td>\n",
              "      <td>15.124206</td>\n",
              "      <td>14.622717</td>\n",
              "      <td>14.513534</td>\n",
              "      <td>15.042056</td>\n",
              "    </tr>\n",
              "    <tr>\n",
              "      <th>std</th>\n",
              "      <td>214888.75983</td>\n",
              "      <td>1.905104e+07</td>\n",
              "      <td>1.440636</td>\n",
              "      <td>1.447793</td>\n",
              "      <td>1.567942</td>\n",
              "      <td>1.531097</td>\n",
              "      <td>1.523851</td>\n",
              "      <td>1.244402</td>\n",
              "      <td>1.241262</td>\n",
              "      <td>1.257440</td>\n",
              "      <td>1.233368</td>\n",
              "      <td>3.633543</td>\n",
              "      <td>3.211462</td>\n",
              "      <td>3.238440</td>\n",
              "      <td>3.341804</td>\n",
              "      <td>3.462336</td>\n",
              "    </tr>\n",
              "    <tr>\n",
              "      <th>min</th>\n",
              "      <td>1.00000</td>\n",
              "      <td>1.000019e+06</td>\n",
              "      <td>0.000000</td>\n",
              "      <td>0.000000</td>\n",
              "      <td>0.000000</td>\n",
              "      <td>0.000000</td>\n",
              "      <td>0.000000</td>\n",
              "      <td>0.000000</td>\n",
              "      <td>0.000000</td>\n",
              "      <td>0.000000</td>\n",
              "      <td>0.000000</td>\n",
              "      <td>0.000000</td>\n",
              "      <td>0.000000</td>\n",
              "      <td>0.000000</td>\n",
              "      <td>0.000000</td>\n",
              "      <td>0.000000</td>\n",
              "    </tr>\n",
              "    <tr>\n",
              "      <th>25%</th>\n",
              "      <td>186099.75000</td>\n",
              "      <td>1.500588e+07</td>\n",
              "      <td>3.800000</td>\n",
              "      <td>4.500000</td>\n",
              "      <td>2.800000</td>\n",
              "      <td>3.750000</td>\n",
              "      <td>3.750000</td>\n",
              "      <td>3.750000</td>\n",
              "      <td>3.000000</td>\n",
              "      <td>4.750000</td>\n",
              "      <td>6.500000</td>\n",
              "      <td>13.100000</td>\n",
              "      <td>13.000000</td>\n",
              "      <td>12.500000</td>\n",
              "      <td>12.200000</td>\n",
              "      <td>12.700000</td>\n",
              "    </tr>\n",
              "    <tr>\n",
              "      <th>50%</th>\n",
              "      <td>372198.50000</td>\n",
              "      <td>3.200454e+07</td>\n",
              "      <td>5.000000</td>\n",
              "      <td>5.500000</td>\n",
              "      <td>3.600000</td>\n",
              "      <td>5.000000</td>\n",
              "      <td>4.750000</td>\n",
              "      <td>4.500000</td>\n",
              "      <td>3.750000</td>\n",
              "      <td>5.500000</td>\n",
              "      <td>7.250000</td>\n",
              "      <td>15.650000</td>\n",
              "      <td>15.150000</td>\n",
              "      <td>14.500000</td>\n",
              "      <td>14.380000</td>\n",
              "      <td>14.900000</td>\n",
              "    </tr>\n",
              "    <tr>\n",
              "      <th>75%</th>\n",
              "      <td>558297.25000</td>\n",
              "      <td>4.700776e+07</td>\n",
              "      <td>6.000000</td>\n",
              "      <td>6.500000</td>\n",
              "      <td>4.600000</td>\n",
              "      <td>6.000000</td>\n",
              "      <td>6.000000</td>\n",
              "      <td>5.250000</td>\n",
              "      <td>4.500000</td>\n",
              "      <td>6.250000</td>\n",
              "      <td>8.000000</td>\n",
              "      <td>18.000000</td>\n",
              "      <td>17.200000</td>\n",
              "      <td>16.750000</td>\n",
              "      <td>16.700000</td>\n",
              "      <td>17.300000</td>\n",
              "    </tr>\n",
              "    <tr>\n",
              "      <th>max</th>\n",
              "      <td>744396.00000</td>\n",
              "      <td>6.400622e+07</td>\n",
              "      <td>10.000000</td>\n",
              "      <td>9.750000</td>\n",
              "      <td>10.000000</td>\n",
              "      <td>10.000000</td>\n",
              "      <td>10.000000</td>\n",
              "      <td>10.000000</td>\n",
              "      <td>10.000000</td>\n",
              "      <td>10.000000</td>\n",
              "      <td>10.000000</td>\n",
              "      <td>29.050000</td>\n",
              "      <td>29.550000</td>\n",
              "      <td>28.500000</td>\n",
              "      <td>27.850000</td>\n",
              "      <td>28.950000</td>\n",
              "    </tr>\n",
              "  </tbody>\n",
              "</table>\n",
              "</div>"
            ],
            "text/plain": [
              "                 ID          SoBD  ...          KhoiD         KhoiA1\n",
              "count  744396.00000  7.443960e+05  ...  656138.000000  307864.000000\n",
              "mean   372198.50000  3.033333e+07  ...      14.513534      15.042056\n",
              "std    214888.75983  1.905104e+07  ...       3.341804       3.462336\n",
              "min         1.00000  1.000019e+06  ...       0.000000       0.000000\n",
              "25%    186099.75000  1.500588e+07  ...      12.200000      12.700000\n",
              "50%    372198.50000  3.200454e+07  ...      14.380000      14.900000\n",
              "75%    558297.25000  4.700776e+07  ...      16.700000      17.300000\n",
              "max    744396.00000  6.400622e+07  ...      27.850000      28.950000\n",
              "\n",
              "[8 rows x 16 columns]"
            ]
          },
          "metadata": {
            "tags": []
          },
          "execution_count": 5
        }
      ]
    },
    {
      "cell_type": "code",
      "metadata": {
        "colab": {
          "base_uri": "https://localhost:8080/"
        },
        "id": "PJ7jv2tkzoqb",
        "outputId": "5c7cffdc-f246-498c-dd4c-42309a61ee4e"
      },
      "source": [
        "df.dtypes"
      ],
      "execution_count": 6,
      "outputs": [
        {
          "output_type": "execute_result",
          "data": {
            "text/plain": [
              "ID          int64\n",
              "SoBD        int64\n",
              "Toan      float64\n",
              "Van       float64\n",
              "Anh       float64\n",
              "Ly        float64\n",
              "Hoa       float64\n",
              "Sinh      float64\n",
              "Su        float64\n",
              "Dia       float64\n",
              "GDCD      float64\n",
              "KhoiA     float64\n",
              "KhoiB     float64\n",
              "KhoiC     float64\n",
              "KhoiD     float64\n",
              "KhoiA1    float64\n",
              "dtype: object"
            ]
          },
          "metadata": {
            "tags": []
          },
          "execution_count": 6
        }
      ]
    },
    {
      "cell_type": "code",
      "metadata": {
        "id": "lZtLNNqH6Udh"
      },
      "source": [
        "df['code'] =  np.where(df['SoBD'] > 10000000, df['SoBD'].astype(str).str[:2], df['SoBD'].astype(str).str[:1])\n",
        "df = df.astype({'code': int})"
      ],
      "execution_count": 7,
      "outputs": []
    },
    {
      "cell_type": "code",
      "metadata": {
        "colab": {
          "base_uri": "https://localhost:8080/",
          "height": 204
        },
        "id": "8W6Nx4H96mCU",
        "outputId": "8bc5e1e5-6b5b-41ea-be3d-eef6401e64f7"
      },
      "source": [
        "df.head()"
      ],
      "execution_count": 8,
      "outputs": [
        {
          "output_type": "execute_result",
          "data": {
            "text/html": [
              "<div>\n",
              "<style scoped>\n",
              "    .dataframe tbody tr th:only-of-type {\n",
              "        vertical-align: middle;\n",
              "    }\n",
              "\n",
              "    .dataframe tbody tr th {\n",
              "        vertical-align: top;\n",
              "    }\n",
              "\n",
              "    .dataframe thead th {\n",
              "        text-align: right;\n",
              "    }\n",
              "</style>\n",
              "<table border=\"1\" class=\"dataframe\">\n",
              "  <thead>\n",
              "    <tr style=\"text-align: right;\">\n",
              "      <th></th>\n",
              "      <th>ID</th>\n",
              "      <th>SoBD</th>\n",
              "      <th>Toan</th>\n",
              "      <th>Van</th>\n",
              "      <th>Anh</th>\n",
              "      <th>Ly</th>\n",
              "      <th>Hoa</th>\n",
              "      <th>Sinh</th>\n",
              "      <th>Su</th>\n",
              "      <th>Dia</th>\n",
              "      <th>GDCD</th>\n",
              "      <th>KhoiA</th>\n",
              "      <th>KhoiB</th>\n",
              "      <th>KhoiC</th>\n",
              "      <th>KhoiD</th>\n",
              "      <th>KhoiA1</th>\n",
              "      <th>code</th>\n",
              "    </tr>\n",
              "  </thead>\n",
              "  <tbody>\n",
              "    <tr>\n",
              "      <th>0</th>\n",
              "      <td>63861</td>\n",
              "      <td>1000019</td>\n",
              "      <td>4.8</td>\n",
              "      <td>5.75</td>\n",
              "      <td>4.8</td>\n",
              "      <td>NaN</td>\n",
              "      <td>NaN</td>\n",
              "      <td>NaN</td>\n",
              "      <td>5.25</td>\n",
              "      <td>5.75</td>\n",
              "      <td>7.25</td>\n",
              "      <td>NaN</td>\n",
              "      <td>NaN</td>\n",
              "      <td>16.75</td>\n",
              "      <td>15.35</td>\n",
              "      <td>NaN</td>\n",
              "      <td>1</td>\n",
              "    </tr>\n",
              "    <tr>\n",
              "      <th>1</th>\n",
              "      <td>62327</td>\n",
              "      <td>1000020</td>\n",
              "      <td>6.8</td>\n",
              "      <td>8.25</td>\n",
              "      <td>7.0</td>\n",
              "      <td>NaN</td>\n",
              "      <td>NaN</td>\n",
              "      <td>NaN</td>\n",
              "      <td>5.75</td>\n",
              "      <td>5.75</td>\n",
              "      <td>8.25</td>\n",
              "      <td>NaN</td>\n",
              "      <td>NaN</td>\n",
              "      <td>19.75</td>\n",
              "      <td>22.05</td>\n",
              "      <td>NaN</td>\n",
              "      <td>1</td>\n",
              "    </tr>\n",
              "    <tr>\n",
              "      <th>2</th>\n",
              "      <td>63857</td>\n",
              "      <td>1000021</td>\n",
              "      <td>5.6</td>\n",
              "      <td>8.00</td>\n",
              "      <td>6.4</td>\n",
              "      <td>NaN</td>\n",
              "      <td>NaN</td>\n",
              "      <td>NaN</td>\n",
              "      <td>3.75</td>\n",
              "      <td>7.00</td>\n",
              "      <td>7.50</td>\n",
              "      <td>NaN</td>\n",
              "      <td>NaN</td>\n",
              "      <td>18.75</td>\n",
              "      <td>20.00</td>\n",
              "      <td>NaN</td>\n",
              "      <td>1</td>\n",
              "    </tr>\n",
              "    <tr>\n",
              "      <th>3</th>\n",
              "      <td>63858</td>\n",
              "      <td>1000023</td>\n",
              "      <td>4.8</td>\n",
              "      <td>6.75</td>\n",
              "      <td>7.8</td>\n",
              "      <td>NaN</td>\n",
              "      <td>NaN</td>\n",
              "      <td>NaN</td>\n",
              "      <td>4.00</td>\n",
              "      <td>6.75</td>\n",
              "      <td>6.50</td>\n",
              "      <td>NaN</td>\n",
              "      <td>NaN</td>\n",
              "      <td>17.50</td>\n",
              "      <td>19.35</td>\n",
              "      <td>NaN</td>\n",
              "      <td>1</td>\n",
              "    </tr>\n",
              "    <tr>\n",
              "      <th>4</th>\n",
              "      <td>63595</td>\n",
              "      <td>1000024</td>\n",
              "      <td>6.2</td>\n",
              "      <td>7.00</td>\n",
              "      <td>7.4</td>\n",
              "      <td>NaN</td>\n",
              "      <td>NaN</td>\n",
              "      <td>NaN</td>\n",
              "      <td>3.75</td>\n",
              "      <td>7.25</td>\n",
              "      <td>9.25</td>\n",
              "      <td>NaN</td>\n",
              "      <td>NaN</td>\n",
              "      <td>18.00</td>\n",
              "      <td>20.60</td>\n",
              "      <td>NaN</td>\n",
              "      <td>1</td>\n",
              "    </tr>\n",
              "  </tbody>\n",
              "</table>\n",
              "</div>"
            ],
            "text/plain": [
              "      ID     SoBD  Toan   Van  Anh  ...  KhoiB  KhoiC  KhoiD  KhoiA1  code\n",
              "0  63861  1000019   4.8  5.75  4.8  ...    NaN  16.75  15.35     NaN     1\n",
              "1  62327  1000020   6.8  8.25  7.0  ...    NaN  19.75  22.05     NaN     1\n",
              "2  63857  1000021   5.6  8.00  6.4  ...    NaN  18.75  20.00     NaN     1\n",
              "3  63858  1000023   4.8  6.75  7.8  ...    NaN  17.50  19.35     NaN     1\n",
              "4  63595  1000024   6.2  7.00  7.4  ...    NaN  18.00  20.60     NaN     1\n",
              "\n",
              "[5 rows x 17 columns]"
            ]
          },
          "metadata": {
            "tags": []
          },
          "execution_count": 8
        }
      ]
    },
    {
      "cell_type": "code",
      "metadata": {
        "colab": {
          "base_uri": "https://localhost:8080/",
          "height": 317
        },
        "id": "uAsakqdQAldu",
        "outputId": "05aa5bdb-3349-40a4-bb0b-ce7972a0d24c"
      },
      "source": [
        "df.describe()"
      ],
      "execution_count": 9,
      "outputs": [
        {
          "output_type": "execute_result",
          "data": {
            "text/html": [
              "<div>\n",
              "<style scoped>\n",
              "    .dataframe tbody tr th:only-of-type {\n",
              "        vertical-align: middle;\n",
              "    }\n",
              "\n",
              "    .dataframe tbody tr th {\n",
              "        vertical-align: top;\n",
              "    }\n",
              "\n",
              "    .dataframe thead th {\n",
              "        text-align: right;\n",
              "    }\n",
              "</style>\n",
              "<table border=\"1\" class=\"dataframe\">\n",
              "  <thead>\n",
              "    <tr style=\"text-align: right;\">\n",
              "      <th></th>\n",
              "      <th>ID</th>\n",
              "      <th>SoBD</th>\n",
              "      <th>Toan</th>\n",
              "      <th>Van</th>\n",
              "      <th>Anh</th>\n",
              "      <th>Ly</th>\n",
              "      <th>Hoa</th>\n",
              "      <th>Sinh</th>\n",
              "      <th>Su</th>\n",
              "      <th>Dia</th>\n",
              "      <th>GDCD</th>\n",
              "      <th>KhoiA</th>\n",
              "      <th>KhoiB</th>\n",
              "      <th>KhoiC</th>\n",
              "      <th>KhoiD</th>\n",
              "      <th>KhoiA1</th>\n",
              "      <th>code</th>\n",
              "    </tr>\n",
              "  </thead>\n",
              "  <tbody>\n",
              "    <tr>\n",
              "      <th>count</th>\n",
              "      <td>744396.00000</td>\n",
              "      <td>7.443960e+05</td>\n",
              "      <td>741024.000000</td>\n",
              "      <td>728309.000000</td>\n",
              "      <td>659998.000000</td>\n",
              "      <td>323353.000000</td>\n",
              "      <td>326981.000000</td>\n",
              "      <td>319605.000000</td>\n",
              "      <td>446118.000000</td>\n",
              "      <td>433221.000000</td>\n",
              "      <td>379034.000000</td>\n",
              "      <td>321232.000000</td>\n",
              "      <td>319516.000000</td>\n",
              "      <td>432605.000000</td>\n",
              "      <td>656138.000000</td>\n",
              "      <td>307864.000000</td>\n",
              "      <td>744396.000000</td>\n",
              "    </tr>\n",
              "    <tr>\n",
              "      <th>mean</th>\n",
              "      <td>372198.50000</td>\n",
              "      <td>3.033333e+07</td>\n",
              "      <td>4.884162</td>\n",
              "      <td>5.444146</td>\n",
              "      <td>3.933543</td>\n",
              "      <td>4.961179</td>\n",
              "      <td>4.864391</td>\n",
              "      <td>4.561249</td>\n",
              "      <td>3.805371</td>\n",
              "      <td>5.483495</td>\n",
              "      <td>7.157468</td>\n",
              "      <td>15.523625</td>\n",
              "      <td>15.124206</td>\n",
              "      <td>14.622717</td>\n",
              "      <td>14.513534</td>\n",
              "      <td>15.042056</td>\n",
              "      <td>30.321701</td>\n",
              "    </tr>\n",
              "    <tr>\n",
              "      <th>std</th>\n",
              "      <td>214888.75983</td>\n",
              "      <td>1.905104e+07</td>\n",
              "      <td>1.440636</td>\n",
              "      <td>1.447793</td>\n",
              "      <td>1.567942</td>\n",
              "      <td>1.531097</td>\n",
              "      <td>1.523851</td>\n",
              "      <td>1.244402</td>\n",
              "      <td>1.241262</td>\n",
              "      <td>1.257440</td>\n",
              "      <td>1.233368</td>\n",
              "      <td>3.633543</td>\n",
              "      <td>3.211462</td>\n",
              "      <td>3.238440</td>\n",
              "      <td>3.341804</td>\n",
              "      <td>3.462336</td>\n",
              "      <td>19.057832</td>\n",
              "    </tr>\n",
              "    <tr>\n",
              "      <th>min</th>\n",
              "      <td>1.00000</td>\n",
              "      <td>1.000019e+06</td>\n",
              "      <td>0.000000</td>\n",
              "      <td>0.000000</td>\n",
              "      <td>0.000000</td>\n",
              "      <td>0.000000</td>\n",
              "      <td>0.000000</td>\n",
              "      <td>0.000000</td>\n",
              "      <td>0.000000</td>\n",
              "      <td>0.000000</td>\n",
              "      <td>0.000000</td>\n",
              "      <td>0.000000</td>\n",
              "      <td>0.000000</td>\n",
              "      <td>0.000000</td>\n",
              "      <td>0.000000</td>\n",
              "      <td>0.000000</td>\n",
              "      <td>1.000000</td>\n",
              "    </tr>\n",
              "    <tr>\n",
              "      <th>25%</th>\n",
              "      <td>186099.75000</td>\n",
              "      <td>1.500588e+07</td>\n",
              "      <td>3.800000</td>\n",
              "      <td>4.500000</td>\n",
              "      <td>2.800000</td>\n",
              "      <td>3.750000</td>\n",
              "      <td>3.750000</td>\n",
              "      <td>3.750000</td>\n",
              "      <td>3.000000</td>\n",
              "      <td>4.750000</td>\n",
              "      <td>6.500000</td>\n",
              "      <td>13.100000</td>\n",
              "      <td>13.000000</td>\n",
              "      <td>12.500000</td>\n",
              "      <td>12.200000</td>\n",
              "      <td>12.700000</td>\n",
              "      <td>15.000000</td>\n",
              "    </tr>\n",
              "    <tr>\n",
              "      <th>50%</th>\n",
              "      <td>372198.50000</td>\n",
              "      <td>3.200454e+07</td>\n",
              "      <td>5.000000</td>\n",
              "      <td>5.500000</td>\n",
              "      <td>3.600000</td>\n",
              "      <td>5.000000</td>\n",
              "      <td>4.750000</td>\n",
              "      <td>4.500000</td>\n",
              "      <td>3.750000</td>\n",
              "      <td>5.500000</td>\n",
              "      <td>7.250000</td>\n",
              "      <td>15.650000</td>\n",
              "      <td>15.150000</td>\n",
              "      <td>14.500000</td>\n",
              "      <td>14.380000</td>\n",
              "      <td>14.900000</td>\n",
              "      <td>32.000000</td>\n",
              "    </tr>\n",
              "    <tr>\n",
              "      <th>75%</th>\n",
              "      <td>558297.25000</td>\n",
              "      <td>4.700776e+07</td>\n",
              "      <td>6.000000</td>\n",
              "      <td>6.500000</td>\n",
              "      <td>4.600000</td>\n",
              "      <td>6.000000</td>\n",
              "      <td>6.000000</td>\n",
              "      <td>5.250000</td>\n",
              "      <td>4.500000</td>\n",
              "      <td>6.250000</td>\n",
              "      <td>8.000000</td>\n",
              "      <td>18.000000</td>\n",
              "      <td>17.200000</td>\n",
              "      <td>16.750000</td>\n",
              "      <td>16.700000</td>\n",
              "      <td>17.300000</td>\n",
              "      <td>47.000000</td>\n",
              "    </tr>\n",
              "    <tr>\n",
              "      <th>max</th>\n",
              "      <td>744396.00000</td>\n",
              "      <td>6.400622e+07</td>\n",
              "      <td>10.000000</td>\n",
              "      <td>9.750000</td>\n",
              "      <td>10.000000</td>\n",
              "      <td>10.000000</td>\n",
              "      <td>10.000000</td>\n",
              "      <td>10.000000</td>\n",
              "      <td>10.000000</td>\n",
              "      <td>10.000000</td>\n",
              "      <td>10.000000</td>\n",
              "      <td>29.050000</td>\n",
              "      <td>29.550000</td>\n",
              "      <td>28.500000</td>\n",
              "      <td>27.850000</td>\n",
              "      <td>28.950000</td>\n",
              "      <td>64.000000</td>\n",
              "    </tr>\n",
              "  </tbody>\n",
              "</table>\n",
              "</div>"
            ],
            "text/plain": [
              "                 ID          SoBD  ...         KhoiA1           code\n",
              "count  744396.00000  7.443960e+05  ...  307864.000000  744396.000000\n",
              "mean   372198.50000  3.033333e+07  ...      15.042056      30.321701\n",
              "std    214888.75983  1.905104e+07  ...       3.462336      19.057832\n",
              "min         1.00000  1.000019e+06  ...       0.000000       1.000000\n",
              "25%    186099.75000  1.500588e+07  ...      12.700000      15.000000\n",
              "50%    372198.50000  3.200454e+07  ...      14.900000      32.000000\n",
              "75%    558297.25000  4.700776e+07  ...      17.300000      47.000000\n",
              "max    744396.00000  6.400622e+07  ...      28.950000      64.000000\n",
              "\n",
              "[8 rows x 17 columns]"
            ]
          },
          "metadata": {
            "tags": []
          },
          "execution_count": 9
        }
      ]
    },
    {
      "cell_type": "code",
      "metadata": {
        "colab": {
          "base_uri": "https://localhost:8080/"
        },
        "id": "Cup3YA8BCJbK",
        "outputId": "8c4ebac5-2a3d-4d57-de0c-9d8a8b386124"
      },
      "source": [
        "df.code.unique()"
      ],
      "execution_count": 10,
      "outputs": [
        {
          "output_type": "execute_result",
          "data": {
            "text/plain": [
              "array([ 1,  2,  3,  4,  5,  6,  7,  8,  9, 10, 11, 12, 13, 15, 16, 18, 19,\n",
              "       21, 22, 23, 24, 25, 26, 27, 28, 30, 31, 32, 33, 34, 35, 36, 37, 38,\n",
              "       39, 40, 41, 42, 43, 44, 45, 46, 47, 48, 49, 50, 52, 53, 54, 55, 56,\n",
              "       57, 58, 59, 60, 61, 62, 63, 64])"
            ]
          },
          "metadata": {
            "tags": []
          },
          "execution_count": 10
        }
      ]
    },
    {
      "cell_type": "markdown",
      "metadata": {
        "id": "yooNwjQrsM_u"
      },
      "source": [
        "# Lấy dữ liệu mã tỉnh từ trang Web"
      ]
    },
    {
      "cell_type": "code",
      "metadata": {
        "id": "-bxQXIDmspeA"
      },
      "source": [
        "base_url = 'https://thuvienphapluat.vn/cong-van/Giao-duc/Cong-van-417-BGDDT-KTKDCLGD-huong-dan-thuc-hien-Quy-che-thi-trung-hoc-pho-thong-quoc-gia-2017-339311.aspx'"
      ],
      "execution_count": 11,
      "outputs": []
    },
    {
      "cell_type": "code",
      "metadata": {
        "id": "GfS272PByEaz"
      },
      "source": [
        "craw_data = pd.read_html(base_url)"
      ],
      "execution_count": 12,
      "outputs": []
    },
    {
      "cell_type": "code",
      "metadata": {
        "id": "EilV9WL4yvSL"
      },
      "source": [
        "ma_co_so = craw_data[17]"
      ],
      "execution_count": 13,
      "outputs": []
    },
    {
      "cell_type": "code",
      "metadata": {
        "id": "te8weCxP3LqN"
      },
      "source": [
        "ma_co_so = ma_co_so.drop(ma_co_so.index[0])\n",
        "ma_co_so.rename(columns={0: 'code', 1: 'ten co so', 2: 'ma cum co so', 3: 'ten hoi dong thi'}, inplace=True)\n",
        "ma_co_so = ma_co_so.astype({'code': int})\n",
        "del ma_co_so['ma cum co so']\n",
        "del ma_co_so['ten hoi dong thi']"
      ],
      "execution_count": 14,
      "outputs": []
    },
    {
      "cell_type": "code",
      "metadata": {
        "colab": {
          "base_uri": "https://localhost:8080/",
          "height": 419
        },
        "id": "rP4bYhwo7h5U",
        "outputId": "72fd0cec-f03c-4fe0-e5f9-4817b2b6bebb"
      },
      "source": [
        "ma_co_so"
      ],
      "execution_count": 15,
      "outputs": [
        {
          "output_type": "execute_result",
          "data": {
            "text/html": [
              "<div>\n",
              "<style scoped>\n",
              "    .dataframe tbody tr th:only-of-type {\n",
              "        vertical-align: middle;\n",
              "    }\n",
              "\n",
              "    .dataframe tbody tr th {\n",
              "        vertical-align: top;\n",
              "    }\n",
              "\n",
              "    .dataframe thead th {\n",
              "        text-align: right;\n",
              "    }\n",
              "</style>\n",
              "<table border=\"1\" class=\"dataframe\">\n",
              "  <thead>\n",
              "    <tr style=\"text-align: right;\">\n",
              "      <th></th>\n",
              "      <th>code</th>\n",
              "      <th>ten co so</th>\n",
              "    </tr>\n",
              "  </thead>\n",
              "  <tbody>\n",
              "    <tr>\n",
              "      <th>1</th>\n",
              "      <td>1</td>\n",
              "      <td>Sở GDĐT Hà Nội</td>\n",
              "    </tr>\n",
              "    <tr>\n",
              "      <th>2</th>\n",
              "      <td>2</td>\n",
              "      <td>Sở GDĐT TP. Hồ Chí Minh</td>\n",
              "    </tr>\n",
              "    <tr>\n",
              "      <th>3</th>\n",
              "      <td>3</td>\n",
              "      <td>Sở GDĐT Hải Phòng</td>\n",
              "    </tr>\n",
              "    <tr>\n",
              "      <th>4</th>\n",
              "      <td>4</td>\n",
              "      <td>Sở GDĐT Đà Nẵng</td>\n",
              "    </tr>\n",
              "    <tr>\n",
              "      <th>5</th>\n",
              "      <td>5</td>\n",
              "      <td>Sở GDĐT Hà Giang</td>\n",
              "    </tr>\n",
              "    <tr>\n",
              "      <th>...</th>\n",
              "      <td>...</td>\n",
              "      <td>...</td>\n",
              "    </tr>\n",
              "    <tr>\n",
              "      <th>60</th>\n",
              "      <td>61</td>\n",
              "      <td>Sở GDĐT Cà Mau</td>\n",
              "    </tr>\n",
              "    <tr>\n",
              "      <th>61</th>\n",
              "      <td>62</td>\n",
              "      <td>Sở GDĐT Điện Biên</td>\n",
              "    </tr>\n",
              "    <tr>\n",
              "      <th>62</th>\n",
              "      <td>63</td>\n",
              "      <td>Sở GDĐT Đăk Nông</td>\n",
              "    </tr>\n",
              "    <tr>\n",
              "      <th>63</th>\n",
              "      <td>64</td>\n",
              "      <td>Sở GDĐT Hậu Giang</td>\n",
              "    </tr>\n",
              "    <tr>\n",
              "      <th>64</th>\n",
              "      <td>65</td>\n",
              "      <td>Cục Nhà trường - Bộ Quốc phòng</td>\n",
              "    </tr>\n",
              "  </tbody>\n",
              "</table>\n",
              "<p>64 rows × 2 columns</p>\n",
              "</div>"
            ],
            "text/plain": [
              "    code                       ten co so\n",
              "1      1                  Sở GDĐT Hà Nội\n",
              "2      2         Sở GDĐT TP. Hồ Chí Minh\n",
              "3      3               Sở GDĐT Hải Phòng\n",
              "4      4                 Sở GDĐT Đà Nẵng\n",
              "5      5                Sở GDĐT Hà Giang\n",
              "..   ...                             ...\n",
              "60    61                  Sở GDĐT Cà Mau\n",
              "61    62               Sở GDĐT Điện Biên\n",
              "62    63                Sở GDĐT Đăk Nông\n",
              "63    64               Sở GDĐT Hậu Giang\n",
              "64    65  Cục Nhà trường - Bộ Quốc phòng\n",
              "\n",
              "[64 rows x 2 columns]"
            ]
          },
          "metadata": {
            "tags": []
          },
          "execution_count": 15
        }
      ]
    },
    {
      "cell_type": "markdown",
      "metadata": {
        "id": "So8g7yIrGVN-"
      },
      "source": [
        "# Gộp hai bản dữ liệu theo 'code'"
      ]
    },
    {
      "cell_type": "code",
      "metadata": {
        "id": "AE5r2Knz3zkj"
      },
      "source": [
        "full_join_data = pd.merge(df, ma_co_so, how='outer', on='code')"
      ],
      "execution_count": 16,
      "outputs": []
    },
    {
      "cell_type": "code",
      "metadata": {
        "colab": {
          "base_uri": "https://localhost:8080/",
          "height": 204
        },
        "id": "o5EKjlsH9bJR",
        "outputId": "abf43cf1-0a10-40a0-c94a-a81b63d5a949"
      },
      "source": [
        "full_join_data.head()"
      ],
      "execution_count": 17,
      "outputs": [
        {
          "output_type": "execute_result",
          "data": {
            "text/html": [
              "<div>\n",
              "<style scoped>\n",
              "    .dataframe tbody tr th:only-of-type {\n",
              "        vertical-align: middle;\n",
              "    }\n",
              "\n",
              "    .dataframe tbody tr th {\n",
              "        vertical-align: top;\n",
              "    }\n",
              "\n",
              "    .dataframe thead th {\n",
              "        text-align: right;\n",
              "    }\n",
              "</style>\n",
              "<table border=\"1\" class=\"dataframe\">\n",
              "  <thead>\n",
              "    <tr style=\"text-align: right;\">\n",
              "      <th></th>\n",
              "      <th>ID</th>\n",
              "      <th>SoBD</th>\n",
              "      <th>Toan</th>\n",
              "      <th>Van</th>\n",
              "      <th>Anh</th>\n",
              "      <th>Ly</th>\n",
              "      <th>Hoa</th>\n",
              "      <th>Sinh</th>\n",
              "      <th>Su</th>\n",
              "      <th>Dia</th>\n",
              "      <th>GDCD</th>\n",
              "      <th>KhoiA</th>\n",
              "      <th>KhoiB</th>\n",
              "      <th>KhoiC</th>\n",
              "      <th>KhoiD</th>\n",
              "      <th>KhoiA1</th>\n",
              "      <th>code</th>\n",
              "      <th>ten co so</th>\n",
              "    </tr>\n",
              "  </thead>\n",
              "  <tbody>\n",
              "    <tr>\n",
              "      <th>0</th>\n",
              "      <td>63861.0</td>\n",
              "      <td>1000019.0</td>\n",
              "      <td>4.8</td>\n",
              "      <td>5.75</td>\n",
              "      <td>4.8</td>\n",
              "      <td>NaN</td>\n",
              "      <td>NaN</td>\n",
              "      <td>NaN</td>\n",
              "      <td>5.25</td>\n",
              "      <td>5.75</td>\n",
              "      <td>7.25</td>\n",
              "      <td>NaN</td>\n",
              "      <td>NaN</td>\n",
              "      <td>16.75</td>\n",
              "      <td>15.35</td>\n",
              "      <td>NaN</td>\n",
              "      <td>1</td>\n",
              "      <td>Sở GDĐT Hà Nội</td>\n",
              "    </tr>\n",
              "    <tr>\n",
              "      <th>1</th>\n",
              "      <td>62327.0</td>\n",
              "      <td>1000020.0</td>\n",
              "      <td>6.8</td>\n",
              "      <td>8.25</td>\n",
              "      <td>7.0</td>\n",
              "      <td>NaN</td>\n",
              "      <td>NaN</td>\n",
              "      <td>NaN</td>\n",
              "      <td>5.75</td>\n",
              "      <td>5.75</td>\n",
              "      <td>8.25</td>\n",
              "      <td>NaN</td>\n",
              "      <td>NaN</td>\n",
              "      <td>19.75</td>\n",
              "      <td>22.05</td>\n",
              "      <td>NaN</td>\n",
              "      <td>1</td>\n",
              "      <td>Sở GDĐT Hà Nội</td>\n",
              "    </tr>\n",
              "    <tr>\n",
              "      <th>2</th>\n",
              "      <td>63857.0</td>\n",
              "      <td>1000021.0</td>\n",
              "      <td>5.6</td>\n",
              "      <td>8.00</td>\n",
              "      <td>6.4</td>\n",
              "      <td>NaN</td>\n",
              "      <td>NaN</td>\n",
              "      <td>NaN</td>\n",
              "      <td>3.75</td>\n",
              "      <td>7.00</td>\n",
              "      <td>7.50</td>\n",
              "      <td>NaN</td>\n",
              "      <td>NaN</td>\n",
              "      <td>18.75</td>\n",
              "      <td>20.00</td>\n",
              "      <td>NaN</td>\n",
              "      <td>1</td>\n",
              "      <td>Sở GDĐT Hà Nội</td>\n",
              "    </tr>\n",
              "    <tr>\n",
              "      <th>3</th>\n",
              "      <td>63858.0</td>\n",
              "      <td>1000023.0</td>\n",
              "      <td>4.8</td>\n",
              "      <td>6.75</td>\n",
              "      <td>7.8</td>\n",
              "      <td>NaN</td>\n",
              "      <td>NaN</td>\n",
              "      <td>NaN</td>\n",
              "      <td>4.00</td>\n",
              "      <td>6.75</td>\n",
              "      <td>6.50</td>\n",
              "      <td>NaN</td>\n",
              "      <td>NaN</td>\n",
              "      <td>17.50</td>\n",
              "      <td>19.35</td>\n",
              "      <td>NaN</td>\n",
              "      <td>1</td>\n",
              "      <td>Sở GDĐT Hà Nội</td>\n",
              "    </tr>\n",
              "    <tr>\n",
              "      <th>4</th>\n",
              "      <td>63595.0</td>\n",
              "      <td>1000024.0</td>\n",
              "      <td>6.2</td>\n",
              "      <td>7.00</td>\n",
              "      <td>7.4</td>\n",
              "      <td>NaN</td>\n",
              "      <td>NaN</td>\n",
              "      <td>NaN</td>\n",
              "      <td>3.75</td>\n",
              "      <td>7.25</td>\n",
              "      <td>9.25</td>\n",
              "      <td>NaN</td>\n",
              "      <td>NaN</td>\n",
              "      <td>18.00</td>\n",
              "      <td>20.60</td>\n",
              "      <td>NaN</td>\n",
              "      <td>1</td>\n",
              "      <td>Sở GDĐT Hà Nội</td>\n",
              "    </tr>\n",
              "  </tbody>\n",
              "</table>\n",
              "</div>"
            ],
            "text/plain": [
              "        ID       SoBD  Toan   Van  ...  KhoiD  KhoiA1  code       ten co so\n",
              "0  63861.0  1000019.0   4.8  5.75  ...  15.35     NaN     1  Sở GDĐT Hà Nội\n",
              "1  62327.0  1000020.0   6.8  8.25  ...  22.05     NaN     1  Sở GDĐT Hà Nội\n",
              "2  63857.0  1000021.0   5.6  8.00  ...  20.00     NaN     1  Sở GDĐT Hà Nội\n",
              "3  63858.0  1000023.0   4.8  6.75  ...  19.35     NaN     1  Sở GDĐT Hà Nội\n",
              "4  63595.0  1000024.0   6.2  7.00  ...  20.60     NaN     1  Sở GDĐT Hà Nội\n",
              "\n",
              "[5 rows x 18 columns]"
            ]
          },
          "metadata": {
            "tags": []
          },
          "execution_count": 17
        }
      ]
    },
    {
      "cell_type": "code",
      "metadata": {
        "colab": {
          "base_uri": "https://localhost:8080/",
          "height": 450
        },
        "id": "mx1xhFx4_tG3",
        "outputId": "0ddceb17-bd7c-4b0a-c78f-33f6c7d9548d"
      },
      "source": [
        "full_join_data.groupby(['code'])['Toan'].describe()"
      ],
      "execution_count": 18,
      "outputs": [
        {
          "output_type": "execute_result",
          "data": {
            "text/html": [
              "<div>\n",
              "<style scoped>\n",
              "    .dataframe tbody tr th:only-of-type {\n",
              "        vertical-align: middle;\n",
              "    }\n",
              "\n",
              "    .dataframe tbody tr th {\n",
              "        vertical-align: top;\n",
              "    }\n",
              "\n",
              "    .dataframe thead th {\n",
              "        text-align: right;\n",
              "    }\n",
              "</style>\n",
              "<table border=\"1\" class=\"dataframe\">\n",
              "  <thead>\n",
              "    <tr style=\"text-align: right;\">\n",
              "      <th></th>\n",
              "      <th>count</th>\n",
              "      <th>mean</th>\n",
              "      <th>std</th>\n",
              "      <th>min</th>\n",
              "      <th>25%</th>\n",
              "      <th>50%</th>\n",
              "      <th>75%</th>\n",
              "      <th>max</th>\n",
              "    </tr>\n",
              "    <tr>\n",
              "      <th>code</th>\n",
              "      <th></th>\n",
              "      <th></th>\n",
              "      <th></th>\n",
              "      <th></th>\n",
              "      <th></th>\n",
              "      <th></th>\n",
              "      <th></th>\n",
              "      <th></th>\n",
              "    </tr>\n",
              "  </thead>\n",
              "  <tbody>\n",
              "    <tr>\n",
              "      <th>1</th>\n",
              "      <td>37993.0</td>\n",
              "      <td>5.304288</td>\n",
              "      <td>1.547857</td>\n",
              "      <td>0.0</td>\n",
              "      <td>4.2</td>\n",
              "      <td>5.6</td>\n",
              "      <td>6.4</td>\n",
              "      <td>9.6</td>\n",
              "    </tr>\n",
              "    <tr>\n",
              "      <th>2</th>\n",
              "      <td>78035.0</td>\n",
              "      <td>5.413035</td>\n",
              "      <td>1.241950</td>\n",
              "      <td>0.0</td>\n",
              "      <td>4.6</td>\n",
              "      <td>5.4</td>\n",
              "      <td>6.2</td>\n",
              "      <td>10.0</td>\n",
              "    </tr>\n",
              "    <tr>\n",
              "      <th>3</th>\n",
              "      <td>5094.0</td>\n",
              "      <td>5.256969</td>\n",
              "      <td>1.452611</td>\n",
              "      <td>0.8</td>\n",
              "      <td>4.2</td>\n",
              "      <td>5.4</td>\n",
              "      <td>6.4</td>\n",
              "      <td>9.2</td>\n",
              "    </tr>\n",
              "    <tr>\n",
              "      <th>4</th>\n",
              "      <td>6094.0</td>\n",
              "      <td>5.117788</td>\n",
              "      <td>1.442155</td>\n",
              "      <td>1.2</td>\n",
              "      <td>4.0</td>\n",
              "      <td>5.2</td>\n",
              "      <td>6.2</td>\n",
              "      <td>9.6</td>\n",
              "    </tr>\n",
              "    <tr>\n",
              "      <th>5</th>\n",
              "      <td>3089.0</td>\n",
              "      <td>3.494335</td>\n",
              "      <td>1.433978</td>\n",
              "      <td>1.0</td>\n",
              "      <td>2.6</td>\n",
              "      <td>3.2</td>\n",
              "      <td>4.2</td>\n",
              "      <td>9.6</td>\n",
              "    </tr>\n",
              "    <tr>\n",
              "      <th>...</th>\n",
              "      <td>...</td>\n",
              "      <td>...</td>\n",
              "      <td>...</td>\n",
              "      <td>...</td>\n",
              "      <td>...</td>\n",
              "      <td>...</td>\n",
              "      <td>...</td>\n",
              "      <td>...</td>\n",
              "    </tr>\n",
              "    <tr>\n",
              "      <th>61</th>\n",
              "      <td>9222.0</td>\n",
              "      <td>4.618933</td>\n",
              "      <td>1.268969</td>\n",
              "      <td>0.8</td>\n",
              "      <td>3.8</td>\n",
              "      <td>4.6</td>\n",
              "      <td>5.6</td>\n",
              "      <td>8.8</td>\n",
              "    </tr>\n",
              "    <tr>\n",
              "      <th>62</th>\n",
              "      <td>5372.0</td>\n",
              "      <td>4.114222</td>\n",
              "      <td>1.311870</td>\n",
              "      <td>0.4</td>\n",
              "      <td>3.2</td>\n",
              "      <td>4.0</td>\n",
              "      <td>5.0</td>\n",
              "      <td>9.6</td>\n",
              "    </tr>\n",
              "    <tr>\n",
              "      <th>63</th>\n",
              "      <td>6327.0</td>\n",
              "      <td>4.673020</td>\n",
              "      <td>1.375097</td>\n",
              "      <td>0.2</td>\n",
              "      <td>3.6</td>\n",
              "      <td>4.6</td>\n",
              "      <td>5.6</td>\n",
              "      <td>8.8</td>\n",
              "    </tr>\n",
              "    <tr>\n",
              "      <th>64</th>\n",
              "      <td>6176.0</td>\n",
              "      <td>4.503951</td>\n",
              "      <td>1.266553</td>\n",
              "      <td>0.6</td>\n",
              "      <td>3.6</td>\n",
              "      <td>4.4</td>\n",
              "      <td>5.4</td>\n",
              "      <td>9.0</td>\n",
              "    </tr>\n",
              "    <tr>\n",
              "      <th>65</th>\n",
              "      <td>0.0</td>\n",
              "      <td>NaN</td>\n",
              "      <td>NaN</td>\n",
              "      <td>NaN</td>\n",
              "      <td>NaN</td>\n",
              "      <td>NaN</td>\n",
              "      <td>NaN</td>\n",
              "      <td>NaN</td>\n",
              "    </tr>\n",
              "  </tbody>\n",
              "</table>\n",
              "<p>64 rows × 8 columns</p>\n",
              "</div>"
            ],
            "text/plain": [
              "        count      mean       std  min  25%  50%  75%   max\n",
              "code                                                       \n",
              "1     37993.0  5.304288  1.547857  0.0  4.2  5.6  6.4   9.6\n",
              "2     78035.0  5.413035  1.241950  0.0  4.6  5.4  6.2  10.0\n",
              "3      5094.0  5.256969  1.452611  0.8  4.2  5.4  6.4   9.2\n",
              "4      6094.0  5.117788  1.442155  1.2  4.0  5.2  6.2   9.6\n",
              "5      3089.0  3.494335  1.433978  1.0  2.6  3.2  4.2   9.6\n",
              "...       ...       ...       ...  ...  ...  ...  ...   ...\n",
              "61     9222.0  4.618933  1.268969  0.8  3.8  4.6  5.6   8.8\n",
              "62     5372.0  4.114222  1.311870  0.4  3.2  4.0  5.0   9.6\n",
              "63     6327.0  4.673020  1.375097  0.2  3.6  4.6  5.6   8.8\n",
              "64     6176.0  4.503951  1.266553  0.6  3.6  4.4  5.4   9.0\n",
              "65        0.0       NaN       NaN  NaN  NaN  NaN  NaN   NaN\n",
              "\n",
              "[64 rows x 8 columns]"
            ]
          },
          "metadata": {
            "tags": []
          },
          "execution_count": 18
        }
      ]
    },
    {
      "cell_type": "markdown",
      "metadata": {
        "id": "coyxZtW7GgBq"
      },
      "source": [
        "# Rút trích dữ liệu điểm thi Toán của Hà Giang"
      ]
    },
    {
      "cell_type": "code",
      "metadata": {
        "id": "CXx1C_cSGTkj"
      },
      "source": [
        "math_df_ha_giang = df[df['code'] == 5]['Toan']"
      ],
      "execution_count": 19,
      "outputs": []
    },
    {
      "cell_type": "code",
      "metadata": {
        "colab": {
          "base_uri": "https://localhost:8080/"
        },
        "id": "HjUcaCDpGmj7",
        "outputId": "872248b2-7f3d-4c69-fb7f-26fe928df02d"
      },
      "source": [
        "math_df_ha_giang.head()"
      ],
      "execution_count": 20,
      "outputs": [
        {
          "output_type": "execute_result",
          "data": {
            "text/plain": [
              "127618    5.8\n",
              "127619    8.8\n",
              "127620    9.4\n",
              "127621    6.6\n",
              "127622    9.6\n",
              "Name: Toan, dtype: float64"
            ]
          },
          "metadata": {
            "tags": []
          },
          "execution_count": 20
        }
      ]
    },
    {
      "cell_type": "markdown",
      "metadata": {
        "id": "HsuXGq6oGmvp"
      },
      "source": [
        "# Rút trích dữ liệu điểm thi Toán của các tỉnh còn lại"
      ]
    },
    {
      "cell_type": "code",
      "metadata": {
        "id": "3VCBHMqMGroK"
      },
      "source": [
        "math_df_cac_tinh_con_lai = df[df['code'] != 5]['Toan']"
      ],
      "execution_count": 21,
      "outputs": []
    },
    {
      "cell_type": "code",
      "metadata": {
        "colab": {
          "base_uri": "https://localhost:8080/"
        },
        "id": "PeDxt2zjGr1l",
        "outputId": "73e60551-87cd-4d82-af3f-d0fe7d95b154"
      },
      "source": [
        "math_df_cac_tinh_con_lai.head()"
      ],
      "execution_count": 22,
      "outputs": [
        {
          "output_type": "execute_result",
          "data": {
            "text/plain": [
              "0    4.8\n",
              "1    6.8\n",
              "2    5.6\n",
              "3    4.8\n",
              "4    6.2\n",
              "Name: Toan, dtype: float64"
            ]
          },
          "metadata": {
            "tags": []
          },
          "execution_count": 22
        }
      ]
    },
    {
      "cell_type": "markdown",
      "metadata": {
        "id": "U78sZq2hLnKN"
      },
      "source": [
        "# Trực quan hóa dữ liệu điểm Toán của Hà Giang so với các tỉnh còn lại\n",
        "Sử dụng seaborn trực quan hóa phân phố điểm toán\n",
        "Ta nhận ra điểm bất thường trong phân bố điểm Toán của Hà Giang"
      ]
    },
    {
      "cell_type": "code",
      "metadata": {
        "colab": {
          "base_uri": "https://localhost:8080/",
          "height": 497
        },
        "id": "uqGktCEtIHy5",
        "outputId": "a5cb26b2-943b-4af1-d34a-16266e4a49ba"
      },
      "source": [
        "plt.figure(figsize=(15,8))\n",
        "fig = sns.kdeplot(math_df_ha_giang, shade=True, color=\"r\")\n",
        "fig = sns.kdeplot(math_df_cac_tinh_con_lai, shade=True, color=\"b\")\n",
        "plt.show()"
      ],
      "execution_count": 23,
      "outputs": [
        {
          "output_type": "display_data",
          "data": {
            "image/png": "[encoded data removed]",
            "text/plain": [
              "<Figure size 1080x576 with 1 Axes>"
            ]
          },
          "metadata": {
            "tags": [],
            "needs_background": "light"
          }
        }
      ]
    },
    {
      "cell_type": "markdown",
      "metadata": {
        "id": "HRGyvKrlaqqq"
      },
      "source": [
        "# Rút trích dữ liệu điểm thi Văn của Hà Giang"
      ]
    },
    {
      "cell_type": "code",
      "metadata": {
        "id": "v0ML4iAGa2fY"
      },
      "source": [
        "literature_df_ha_giang = df[df['code'] == 5]['Van']"
      ],
      "execution_count": 24,
      "outputs": []
    },
    {
      "cell_type": "markdown",
      "metadata": {
        "id": "Q1LDfUzXbG3W"
      },
      "source": [
        "# Rút trích dữ liệu điểm thi Văn của các tỉnh còn lại"
      ]
    },
    {
      "cell_type": "code",
      "metadata": {
        "id": "eYjbCZ4hbI2m"
      },
      "source": [
        "literature_df_cac_tinh_con_lai = df[df['code'] != 5]['Van']"
      ],
      "execution_count": 25,
      "outputs": []
    },
    {
      "cell_type": "markdown",
      "metadata": {
        "id": "FVcq7WbxbaXX"
      },
      "source": [
        "# Trực quan hóa dữ liệu điểm Văn của Hà Giang so với các tỉnh còn lại\n",
        "Sử dụng seaborn trực quan hóa phân phố điểm văn Ta nhận ra điểm bất thường trong phân bố điểm Toán của Hà Giang"
      ]
    },
    {
      "cell_type": "code",
      "metadata": {
        "id": "7kjxrxQQbeWA",
        "outputId": "1af45f80-7df9-4184-e21d-0e4f0f708ba9",
        "colab": {
          "base_uri": "https://localhost:8080/",
          "height": 497
        }
      },
      "source": [
        "plt.figure(figsize=(15,8))\n",
        "fig = sns.kdeplot(literature_df_ha_giang, shade=True, color=\"r\")\n",
        "fig = sns.kdeplot(literature_df_cac_tinh_con_lai, shade=True, color=\"b\")\n",
        "plt.show()"
      ],
      "execution_count": 26,
      "outputs": [
        {
          "output_type": "display_data",
          "data": {
            "image/png": "[encoded data removed]",
            "text/plain": [
              "<Figure size 1080x576 with 1 Axes>"
            ]
          },
          "metadata": {
            "tags": [],
            "needs_background": "light"
          }
        }
      ]
    },
    {
      "cell_type": "markdown",
      "metadata": {
        "id": "xMJxSJb7bwXB"
      },
      "source": [
        "# Rút trích điểm khối Tự nhiên của Hà Giang và các tỉnh còn lại"
      ]
    },
    {
      "cell_type": "code",
      "metadata": {
        "id": "3EMNmsbMb5jL"
      },
      "source": [
        "physics_df_ha_giang = df[df['code'] == 5]['Ly']\n",
        "physics_df_ha_giang = physics_df_ha_giang.dropna()"
      ],
      "execution_count": 27,
      "outputs": []
    },
    {
      "cell_type": "code",
      "metadata": {
        "id": "B6MBN12Ic_nN"
      },
      "source": [
        "physics_df_cac_tinh_con_lai = df[df['code'] != 5]['Ly']\n",
        "physics_df_cac_tinh_con_lai = physics_df_cac_tinh_con_lai.dropna()"
      ],
      "execution_count": 28,
      "outputs": []
    },
    {
      "cell_type": "code",
      "metadata": {
        "id": "mn8_Rp9ub6FZ"
      },
      "source": [
        "chemistry_df_ha_giang = df[df['code'] == 5]['Hoa']\n",
        "chemistry_df_ha_giang = chemistry_df_ha_giang.dropna()"
      ],
      "execution_count": 29,
      "outputs": []
    },
    {
      "cell_type": "code",
      "metadata": {
        "id": "xKxyT7tqdXyI"
      },
      "source": [
        "chemistry_df_cac_tinh_con_lai = df[df['code'] != 5]['Hoa']\n",
        "chemistry_df_cac_tinh_con_lai = chemistry_df_cac_tinh_con_lai.dropna()"
      ],
      "execution_count": 30,
      "outputs": []
    },
    {
      "cell_type": "code",
      "metadata": {
        "id": "C9y5UzvycRmg"
      },
      "source": [
        "biology_df_ha_giang = df[df['code'] == 5]['Sinh']\n",
        "biology_df_ha_giang = biology_df_ha_giang.dropna()"
      ],
      "execution_count": 31,
      "outputs": []
    },
    {
      "cell_type": "code",
      "metadata": {
        "id": "8omVUFFLdgi6"
      },
      "source": [
        "biology_df_cac_tinh_con_lai = df[df['code'] != 5]['Sinh']\n",
        "biology_df_cac_tinh_con_lai = biology_df_cac_tinh_con_lai.dropna()"
      ],
      "execution_count": 32,
      "outputs": []
    },
    {
      "cell_type": "markdown",
      "metadata": {
        "id": "HL3bwchjb6Uk"
      },
      "source": [
        "# Rút trích điểm khối Xã Hội của Hà Giang và các tỉnh còn lại"
      ]
    },
    {
      "cell_type": "code",
      "metadata": {
        "id": "fQDp90EUb9o1"
      },
      "source": [
        "history_df_ha_giang = df[df['code'] == 5]['Su']\n",
        "history_df_ha_giang = history_df_ha_giang.dropna()"
      ],
      "execution_count": 33,
      "outputs": []
    },
    {
      "cell_type": "code",
      "metadata": {
        "id": "Ud_pG429d2KN"
      },
      "source": [
        "history_df_cac_tinh_con_lai = df[df['code'] != 5]['Su']\n",
        "history_df_cac_tinh_con_lai = history_df_ha_giang.dropna()"
      ],
      "execution_count": 34,
      "outputs": []
    },
    {
      "cell_type": "code",
      "metadata": {
        "id": "Sze9WaFucuWl"
      },
      "source": [
        "geo_df_ha_giang = df[df['code'] == 5]['Su']\n",
        "geo_df_ha_giang = geo_df_ha_giang.dropna()"
      ],
      "execution_count": 35,
      "outputs": []
    },
    {
      "cell_type": "code",
      "metadata": {
        "id": "bS-PJ8AveJwL"
      },
      "source": [
        "geo_df_cac_tinh_con_lai = df[df['code'] != 5]['Su']\n",
        "geo_df_cac_tinh_con_lai = geo_df_cac_tinh_con_lai.dropna()"
      ],
      "execution_count": 36,
      "outputs": []
    },
    {
      "cell_type": "code",
      "metadata": {
        "id": "XvkwDPhccudw"
      },
      "source": [
        "gdcd_df_ha_giang = df[df['code'] == 5]['Su']\n",
        "gdcd_df_ha_giang = gdcd_df_ha_giang.dropna()"
      ],
      "execution_count": 37,
      "outputs": []
    },
    {
      "cell_type": "code",
      "metadata": {
        "id": "A1MlbLbWeR5J"
      },
      "source": [
        "gdcd_df_cac_tinh_con_lai = df[df['code'] != 5]['Su']\n",
        "gdcd_df_cac_tinh_con_lai = gdcd_df_cac_tinh_con_lai.dropna()"
      ],
      "execution_count": 38,
      "outputs": []
    },
    {
      "cell_type": "markdown",
      "metadata": {
        "id": "zXVoF8DDe99s"
      },
      "source": [
        "# Trực quan hóa dữ liệu khối Tự nhiên"
      ]
    },
    {
      "cell_type": "markdown",
      "metadata": {
        "id": "Gg-bdiNBfBP-"
      },
      "source": [
        "## Môn Vật lý giữa Hà Giang so với cả nước"
      ]
    },
    {
      "cell_type": "code",
      "metadata": {
        "id": "eomPq4jRfGte",
        "outputId": "2cd163f9-37d1-433a-f6d2-9c7e82c467db",
        "colab": {
          "base_uri": "https://localhost:8080/",
          "height": 497
        }
      },
      "source": [
        "plt.figure(figsize=(15,8))\n",
        "fig = sns.kdeplot(physics_df_ha_giang, shade=True, color=\"r\")\n",
        "fig = sns.kdeplot(physics_df_cac_tinh_con_lai, shade=True, color=\"b\")\n",
        "plt.show()"
      ],
      "execution_count": 39,
      "outputs": [
        {
          "output_type": "display_data",
          "data": {
            "image/png": "[encoded data removed]",
            "text/plain": [
              "<Figure size 1080x576 with 1 Axes>"
            ]
          },
          "metadata": {
            "tags": [],
            "needs_background": "light"
          }
        }
      ]
    },
    {
      "cell_type": "markdown",
      "metadata": {
        "id": "vJsWpOfsfHz9"
      },
      "source": [
        "## Môn Hóa học giữa Hà Giang so với cả nước"
      ]
    },
    {
      "cell_type": "code",
      "metadata": {
        "id": "JDbVOtQBfL32",
        "outputId": "f02a3f21-cc4e-4f35-f7df-4895c4c602df",
        "colab": {
          "base_uri": "https://localhost:8080/",
          "height": 497
        }
      },
      "source": [
        "plt.figure(figsize=(15,8))\n",
        "fig = sns.kdeplot(chemistry_df_ha_giang, shade=True, color=\"r\")\n",
        "fig = sns.kdeplot(chemistry_df_cac_tinh_con_lai, shade=True, color=\"b\")\n",
        "plt.show()"
      ],
      "execution_count": 40,
      "outputs": [
        {
          "output_type": "display_data",
          "data": {
            "image/png": "[encoded data removed]",
            "text/plain": [
              "<Figure size 1080x576 with 1 Axes>"
            ]
          },
          "metadata": {
            "tags": [],
            "needs_background": "light"
          }
        }
      ]
    },
    {
      "cell_type": "markdown",
      "metadata": {
        "id": "kBA-FtiqfMAy"
      },
      "source": [
        "## Môn Sinh học giữa Hà Giang so với cả nước"
      ]
    },
    {
      "cell_type": "code",
      "metadata": {
        "id": "m2EZe71HfPYj",
        "outputId": "35bbea55-379a-4b55-afd4-0a5b4b4e4670",
        "colab": {
          "base_uri": "https://localhost:8080/",
          "height": 497
        }
      },
      "source": [
        "plt.figure(figsize=(15,8))\n",
        "fig = sns.kdeplot(biology_df_ha_giang, shade=True, color=\"r\")\n",
        "fig = sns.kdeplot(biology_df_cac_tinh_con_lai, shade=True, color=\"b\")\n",
        "plt.show()"
      ],
      "execution_count": 41,
      "outputs": [
        {
          "output_type": "display_data",
          "data": {
            "image/png": "[encoded data removed]",
            "text/plain": [
              "<Figure size 1080x576 with 1 Axes>"
            ]
          },
          "metadata": {
            "tags": [],
            "needs_background": "light"
          }
        }
      ]
    },
    {
      "cell_type": "markdown",
      "metadata": {
        "id": "HPV9tj0qfqfE"
      },
      "source": [
        "# Trực quan hóa dữ liệu điểm khối Xã hội giữa Hà Giang và cả nước"
      ]
    },
    {
      "cell_type": "markdown",
      "metadata": {
        "id": "gQmW30X2fwgM"
      },
      "source": [
        "## Môn Sử"
      ]
    },
    {
      "cell_type": "code",
      "metadata": {
        "id": "G_5qe7yrf4Ou",
        "outputId": "02b6d99e-df98-4e3f-ea08-ea68d6133ad1",
        "colab": {
          "base_uri": "https://localhost:8080/",
          "height": 497
        }
      },
      "source": [
        "plt.figure(figsize=(15,8))\n",
        "fig = sns.kdeplot(history_df_ha_giang, shade=True, color=\"r\")\n",
        "fig = sns.kdeplot(history_df_cac_tinh_con_lai, shade=True, color=\"b\")\n",
        "plt.show()"
      ],
      "execution_count": 42,
      "outputs": [
        {
          "output_type": "display_data",
          "data": {
            "image/png": "[encoded data removed]",
            "text/plain": [
              "<Figure size 1080x576 with 1 Axes>"
            ]
          },
          "metadata": {
            "tags": [],
            "needs_background": "light"
          }
        }
      ]
    },
    {
      "cell_type": "markdown",
      "metadata": {
        "id": "QXVRZX3EfyRI"
      },
      "source": [
        "## Môn Địa lý"
      ]
    },
    {
      "cell_type": "code",
      "metadata": {
        "id": "GrI2g9jTf_U8",
        "outputId": "349f9d33-ca93-4c41-d96d-5674fee3e6ea",
        "colab": {
          "base_uri": "https://localhost:8080/",
          "height": 497
        }
      },
      "source": [
        "plt.figure(figsize=(15,8))\n",
        "fig = sns.kdeplot(geo_df_ha_giang, shade=True, color=\"r\")\n",
        "fig = sns.kdeplot(geo_df_cac_tinh_con_lai, shade=True, color=\"b\")\n",
        "plt.show()"
      ],
      "execution_count": 43,
      "outputs": [
        {
          "output_type": "display_data",
          "data": {
            "image/png": "[encoded data removed]",
            "text/plain": [
              "<Figure size 1080x576 with 1 Axes>"
            ]
          },
          "metadata": {
            "tags": [],
            "needs_background": "light"
          }
        }
      ]
    },
    {
      "cell_type": "markdown",
      "metadata": {
        "id": "-0CRoHuifyfV"
      },
      "source": [
        "## Môn Giáo dục công dân"
      ]
    },
    {
      "cell_type": "code",
      "metadata": {
        "id": "9YKwhd8-gFtU",
        "outputId": "537cddbb-d126-47d1-c233-00699833580d",
        "colab": {
          "base_uri": "https://localhost:8080/",
          "height": 497
        }
      },
      "source": [
        "plt.figure(figsize=(15,8))\n",
        "fig = sns.kdeplot(gdcd_df_ha_giang, shade=True, color=\"r\")\n",
        "fig = sns.kdeplot(gdcd_df_cac_tinh_con_lai, shade=True, color=\"b\")\n",
        "plt.show()"
      ],
      "execution_count": 44,
      "outputs": [
        {
          "output_type": "display_data",
          "data": {
            "image/png": "[encoded data removed]",
            "text/plain": [
              "<Figure size 1080x576 with 1 Axes>"
            ]
          },
          "metadata": {
            "tags": [],
            "needs_background": "light"
          }
        }
      ]
    }
  ]
}